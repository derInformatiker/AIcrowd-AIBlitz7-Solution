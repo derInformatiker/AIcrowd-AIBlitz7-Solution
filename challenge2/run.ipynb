{
 "cells": [
  {
   "cell_type": "code",
   "execution_count": 11,
   "metadata": {},
   "outputs": [],
   "source": [
    "import pandas as pd\n",
    "import ast\n",
    "import numpy as np\n",
    "from detecto import core, utils, visualize\n",
    "from matplotlib import pyplot as plt\n",
    "from tqdm import tqdm\n",
    "import cv2"
   ]
  },
  {
   "cell_type": "code",
   "execution_count": 2,
   "metadata": {},
   "outputs": [],
   "source": [
    "data = pd.read_csv('data/train.csv')\n",
    "fn, w, h, cl, boxes, imgid = [], [], [], [], [], []\n",
    "counter = 0\n",
    "for i in range(300):\n",
    "    idx = int(data['ImageID'].iloc[i])\n",
    "    bbox = ast.literal_eval(data['bboxes'].iloc[i])\n",
    "    for box in bbox:\n",
    "        fn.append(f'{idx}.jpg')\n",
    "        w.append(512)\n",
    "        h.append(512)\n",
    "        cl.append('debris')\n",
    "        boxes.append(box)\n",
    "        imgid.append(counter)\n",
    "        counter += 1\n",
    "boxes = np.array(boxes).T\n",
    "pd.DataFrame(\n",
    "    {'filename':fn, \n",
    "     'width' : w, \n",
    "     'height' : h, \n",
    "     'class' : cl,\n",
    "     'xmin' : boxes[0],\n",
    "     'ymin' : boxes[2],\n",
    "     'xmax' : boxes[1],\n",
    "     'ymax':boxes[3],\n",
    "     'image_id':imgid\n",
    "    }\n",
    ").to_csv('data/labels.csv',index = False)"
   ]
  },
  {
   "cell_type": "code",
   "execution_count": 3,
   "metadata": {},
   "outputs": [
    {
     "name": "stderr",
     "output_type": "stream",
     "text": [
      "  0%|                                                                                         | 0/1137 [00:00<?, ?it/s]"
     ]
    },
    {
     "name": "stdout",
     "output_type": "stream",
     "text": [
      "Epoch 1 of 1\n",
      "Begin iterating over training dataset\n"
     ]
    },
    {
     "name": "stderr",
     "output_type": "stream",
     "text": [
      "100%|██████████████████████████████████████████████████████████████████████████████| 1137/1137 [03:02<00:00,  6.24it/s]\n"
     ]
    }
   ],
   "source": [
    "dataset = core.Dataset('data/labels.csv','data/train')\n",
    "model = core.Model(['debris'],pretrained = False)\n",
    "m = model.fit(dataset,epochs=10, learning_rate=0.001, lr_step_size=5,verbose = True)"
   ]
  },
  {
   "cell_type": "code",
   "execution_count": 4,
   "metadata": {},
   "outputs": [
    {
     "name": "stderr",
     "output_type": "stream",
     "text": [
      "100%|██████████████████████████████████████████████████████████████████████████████| 5000/5000 [06:34<00:00, 12.67it/s]\n"
     ]
    }
   ],
   "source": [
    "out = []\n",
    "for i in tqdm(range(5000)):\n",
    "    image = utils.read_image(f'data/test/{i}.jpg')\n",
    "    labels, boxes, scores = model.predict(image)\n",
    "    bb = []\n",
    "    for u,box in enumerate(boxes):\n",
    "        box = box.cpu().tolist()\n",
    "        bb.append([box[0],box[2],box[1],box[3],float(scores[u]+0.2 if scores[u]+0.2 <= 1 else 1)])\n",
    "    out.append(bb)"
   ]
  },
  {
   "cell_type": "code",
   "execution_count": 7,
   "metadata": {},
   "outputs": [],
   "source": [
    "def draw_bboxes(img, bboxes, train,color=(255, 0, 0), thickness=1):\n",
    "    for u, bbox in enumerate(bboxes):\n",
    "        # if [x1, y1, x2, y2]\n",
    "        img = cv2.rectangle(img, (int(bbox[0]),int(bbox[2])), (int(bbox[1]),int(bbox[3])), color, thickness)\n",
    "    return img"
   ]
  },
  {
   "cell_type": "code",
   "execution_count": 16,
   "metadata": {},
   "outputs": [
    {
     "data": {
      "text/plain": [
       "<Figure size 720x720 with 0 Axes>"
      ]
     },
     "execution_count": 16,
     "metadata": {},
     "output_type": "execute_result"
    },
    {
     "data": {
      "text/plain": [
       "<Figure size 432x288 with 0 Axes>"
      ]
     },
     "metadata": {},
     "output_type": "display_data"
    },
    {
     "data": {
      "text/plain": [
       "<Figure size 720x720 with 0 Axes>"
      ]
     },
     "metadata": {},
     "output_type": "display_data"
    }
   ],
   "source": [
    "num = 5\n",
    "i = utils.read_image(f'data/test/{num}.jpg')\n",
    "#i = cv2.flip(i,0)\n",
    "image = draw_bboxes(i,out[num],True)\n",
    "#image = draw_bboxes(image,t[num],False,(0,255,0))\n",
    "plt.clf()\n",
    "plt.figure(figsize=(10,10))\n",
    "plt.imshow(image)"
   ]
  },
  {
   "cell_type": "code",
   "execution_count": 13,
   "metadata": {},
   "outputs": [],
   "source": [
    "df = pd.read_csv('data/sample_submission.csv')\n",
    "df.bboxes = out\n",
    "df.to_csv('submission.csv',index = False)"
   ]
  },
  {
   "cell_type": "code",
   "execution_count": null,
   "metadata": {},
   "outputs": [],
   "source": []
  }
 ],
 "metadata": {
  "kernelspec": {
   "display_name": "Python [conda env:ml]",
   "language": "python",
   "name": "conda-env-ml-py"
  },
  "language_info": {
   "codemirror_mode": {
    "name": "ipython",
    "version": 3
   },
   "file_extension": ".py",
   "mimetype": "text/x-python",
   "name": "python",
   "nbconvert_exporter": "python",
   "pygments_lexer": "ipython3",
   "version": "3.8.3"
  }
 },
 "nbformat": 4,
 "nbformat_minor": 4
}

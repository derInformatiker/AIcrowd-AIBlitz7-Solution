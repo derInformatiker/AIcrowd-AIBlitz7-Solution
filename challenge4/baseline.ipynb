{
 "cells": [
  {
   "cell_type": "code",
   "execution_count": 2,
   "metadata": {},
   "outputs": [],
   "source": [
    "import pandas as pd\n",
    "baseline = []\n",
    "images_list = [598,1048,1198,1498,1798]\n",
    "last = 0\n",
    "for u, i in enumerate(images_list):\n",
    "    baseline.extend([u]*(i-last))\n",
    "    last = i\n",
    "baseline = [0]+baseline\n",
    "\n",
    "df = pd.read_csv('data/sample_submission.csv')\n",
    "df.label = baseline\n",
    "df.to_csv('data/labels.csv',index = False)"
   ]
  },
  {
   "cell_type": "code",
   "execution_count": 10,
   "metadata": {},
   "outputs": [
    {
     "name": "stderr",
     "output_type": "stream",
     "text": [
      "GPU available: True, used: True\n",
      "TPU available: None, using: 0 TPU cores\n",
      "Using native 16bit precision.\n"
     ]
    },
    {
     "name": "stdout",
     "output_type": "stream",
     "text": [
      "Loaded pretrained weights for efficientnet-b3\n"
     ]
    },
    {
     "data": {
      "application/vnd.jupyter.widget-view+json": {
       "model_id": "2222c5f082734f5d861f253ae2ce5956",
       "version_major": 2,
       "version_minor": 0
      },
      "text/plain": [
       "Predicting: 0it [00:00, ?it/s]"
      ]
     },
     "metadata": {},
     "output_type": "display_data"
    }
   ],
   "source": [
    "import model\n",
    "import dataset\n",
    "import torch\n",
    "import albumentations as A\n",
    "import pytorch_lightning as pl\n",
    "from pytorch_lightning import Trainer\n",
    "\n",
    "if __name__ == '__main__':\n",
    "    trainer = Trainer(max_epochs = 30,gpus = 1, precision=16, amp_level='O1',deterministic=True)\n",
    "    \n",
    "    train_tr = A.Compose([\n",
    "        A.CenterCrop(256,256,always_apply=True)\n",
    "    ])\n",
    "    \n",
    "    val_tr = A.Compose([\n",
    "        A.CenterCrop(256,256,always_apply=True)\n",
    "    ])\n",
    "    \n",
    "    model = model.Classifier({'lr':3e-4,'batch_size':32,'train_tr':train_tr,'val_tr':val_tr})\n",
    "    trainer.fit(model)\n",
    "    trainer.test(model)\n",
    "    out = trainer.predict(model)\n",
    "    output = torch.tensor([])\n",
    "\n",
    "    for i in range(len(out)):\n",
    "        output = torch.cat((output,torch.tensor(out[i][0]).argmax(1)))\n",
    "    output = output.int().tolist()\n",
    "    dataset.writeSub(output)"
   ]
  },
  {
   "cell_type": "code",
   "execution_count": null,
   "metadata": {},
   "outputs": [],
   "source": []
  }
 ],
 "metadata": {
  "kernelspec": {
   "display_name": "Python [conda env:ml]",
   "language": "python",
   "name": "conda-env-ml-py"
  },
  "language_info": {
   "codemirror_mode": {
    "name": "ipython",
    "version": 3
   },
   "file_extension": ".py",
   "mimetype": "text/x-python",
   "name": "python",
   "nbconvert_exporter": "python",
   "pygments_lexer": "ipython3",
   "version": "3.8.3"
  }
 },
 "nbformat": 4,
 "nbformat_minor": 4
}
